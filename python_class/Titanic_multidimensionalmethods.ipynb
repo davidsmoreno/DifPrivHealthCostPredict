{
 "cells": [
  {
   "cell_type": "code",
   "execution_count": 1,
   "metadata": {},
   "outputs": [],
   "source": [
    "import pandas as pd\n",
    "from dp_transformer import DifferentialPrivacyTransformer\n",
    "import numpy as np\n",
    "import pandas as pd\n",
    "from dp_mechanisms.quantitative import (\n",
    "    duchi_mechanism,\n",
    "    piecewise_mechanism,\n",
    "    normalize_to_range,\n",
    "    denormalize_from_range,\n",
    "    laplace_mechanism\n",
    ")\n",
    "from dp_mechanisms.categorical import direct_encoding, optimized_unary_encoding, rappor\n",
    "from dp_plotting import plot_mean_vs_privatized, plot_histograms\n",
    "import torch"
   ]
  }
 ],
 "metadata": {
  "kernelspec": {
   "display_name": "base",
   "language": "python",
   "name": "python3"
  },
  "language_info": {
   "codemirror_mode": {
    "name": "ipython",
    "version": 3
   },
   "file_extension": ".py",
   "mimetype": "text/x-python",
   "name": "python",
   "nbconvert_exporter": "python",
   "pygments_lexer": "ipython3",
   "version": "3.12.3"
  }
 },
 "nbformat": 4,
 "nbformat_minor": 2
}
