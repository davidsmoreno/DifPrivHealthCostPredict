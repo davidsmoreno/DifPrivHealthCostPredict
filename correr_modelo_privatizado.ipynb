{
 "cells": [
  {
   "cell_type": "code",
   "execution_count": 1,
   "id": "bf80ffc2-17ed-42a5-8f68-92eb53ca5dc3",
   "metadata": {},
   "outputs": [],
   "source": [
    "import pickle\n",
    "import pandas as pd"
   ]
  },
  {
   "cell_type": "code",
   "execution_count": 8,
   "id": "3bcdf2dc-bce4-47a5-82fc-7c360425394f",
   "metadata": {},
   "outputs": [
    {
     "ename": "ValueError",
     "evalue": "feature_names mismatch: ['DIAS_COMP', 'DIAS_ESTAN_Neto', 'Edad', 'SIDA_VIH', 'TUBERCULOSIS', 'CANCER_OTROSCANCER', 'CANCER_ORGANOSDIGESTIVOS', 'CANCER_ORGANOSRESPIRATORIOS', 'CANCER_MELANOMAYDELAPIEL', 'CANCER_MAMA', 'CANCER_OTROSGENITALESFEMENINOS', 'CANCER_CERVIXINVASIVO', 'CANCER_GENITALESMASCULINOS', 'CANCER_TEJIDOLINFATICOYAFINES', 'CANCER_CERVIXINSITU', 'AUTOINMUNE', 'DIABETES', 'SINDROMESCONVULSIVOS(EPILEPSIA)', 'ENFERMEDADCARDIOVASCULAR_OTRA', 'ENFERMEDADCARDIOVASCULAR_HIPERTENSION', 'ENFERMEDADPULMONARDELARGADURACION', 'ASMA', 'ARTRITISPIOGENASYREACTIVAS', 'ARTRITIS', 'ARTROSIS', 'RENAL_OTRA', 'RENAL_RENALDELARGADURACION', 'TRANSPLANTE', 'RENAL_INSUFICIENCIARENALOTRA', 'RENAL_INSUFICIENCIARENALCRONICA', 'ANOMALIASGENETICASYCONGENITAS', 'CANCER_TERAPIACANCER', 'EPS_EAS016', 'EPS_EAS027', 'EPS_EPS001', 'EPS_EPS002', 'EPS_EPS003', 'EPS_EPS005', 'EPS_EPS008', 'EPS_EPS009', 'EPS_EPS010', 'EPS_EPS012', 'EPS_EPS013', 'EPS_EPS014', 'EPS_EPS015', 'EPS_EPS016', 'EPS_EPS017', 'EPS_EPS018', 'EPS_EPS023', 'EPS_EPS026', 'EPS_EPS033', 'EPS_EPS034', 'EPS_EPS035', 'EPS_EPS037', 'EPS_EPS038', 'EPS_EPS039', 'SEXO_F', 'SEXO_M', 'DPTO_11', 'DPTO_13', 'DPTO_15', 'DPTO_17', 'DPTO_18', 'DPTO_19', 'DPTO_20', 'DPTO_23', 'DPTO_25', 'DPTO_27', 'DPTO_41', 'DPTO_44', 'DPTO_47', 'DPTO_5', 'DPTO_50', 'DPTO_52', 'DPTO_54', 'DPTO_63', 'DPTO_66', 'DPTO_68', 'DPTO_70', 'DPTO_73', 'DPTO_76', 'DPTO_8', 'DPTO_81', 'DPTO_85', 'DPTO_86', 'DPTO_88', 'DPTO_91', 'DPTO_94', 'DPTO_95', 'DPTO_97', 'DPTO_99', 'V8_A', 'V8_B', 'V8_C', 'Grupo_Edad_1', 'Grupo_Edad_10', 'Grupo_Edad_11', 'Grupo_Edad_12', 'Grupo_Edad_2', 'Grupo_Edad_3', 'Grupo_Edad_4', 'Grupo_Edad_5', 'Grupo_Edad_6', 'Grupo_Edad_7', 'Grupo_Edad_8', 'Grupo_Edad_9', 'Zona_C', 'Zona_N', 'Zona_Z'] ['DIAS_COMP', 'DIAS_ESTAN_Neto', 'Edad', 'ANOMALIASGENETICASYCONGENITAS', 'ARTROSIS', 'ASMA', 'CANCER_CERVIXINSITU', 'CANCER_GENITALESMASCULINOS', 'CANCER_MAMA', 'CANCER_MELANOMAYDELAPIEL', 'DIABETES', 'ENFERMEDADCARDIOVASCULAR_HIPERTENSION', 'ENFERMEDADCARDIOVASCULAR_OTRA', 'EPS_EPS002', 'EPS_EPS009', 'EPS_EPS013', 'EPS_EPS014', 'EPS_EPS016', 'EPS_EPS017', 'EPS_EPS018', 'EPS_EPS033', 'EPS_EPS037', 'SEXO_F', 'SEXO_M', 'DPTO_11', 'DPTO_13', 'DPTO_15', 'DPTO_25', 'DPTO_44', 'DPTO_50', 'DPTO_54', 'DPTO_76', 'DPTO_8', 'V8_A', 'V8_B', 'V8_C', 'Grupo_Edad_3', 'Grupo_Edad_5', 'Zona_N']\nexpected EPS_EPS039, Grupo_Edad_12, DPTO_47, Grupo_Edad_10, CANCER_CERVIXINVASIVO, Grupo_Edad_2, Grupo_Edad_7, EPS_EAS016, DPTO_52, DPTO_63, EPS_EAS027, CANCER_ORGANOSRESPIRATORIOS, ARTRITISPIOGENASYREACTIVAS, DPTO_19, RENAL_OTRA, EPS_EPS001, DPTO_68, EPS_EPS012, DPTO_66, EPS_EPS038, EPS_EPS023, EPS_EPS015, ENFERMEDADPULMONARDELARGADURACION, RENAL_INSUFICIENCIARENALCRONICA, DPTO_17, DPTO_27, EPS_EPS005, EPS_EPS010, CANCER_ORGANOSDIGESTIVOS, CANCER_TEJIDOLINFATICOYAFINES, SINDROMESCONVULSIVOS(EPILEPSIA), DPTO_70, EPS_EPS035, EPS_EPS026, DPTO_20, CANCER_OTROSCANCER, DPTO_95, ARTRITIS, DPTO_85, EPS_EPS008, RENAL_RENALDELARGADURACION, DPTO_81, EPS_EPS003, CANCER_OTROSGENITALESFEMENINOS, DPTO_73, DPTO_94, DPTO_23, CANCER_TERAPIACANCER, Grupo_Edad_4, TUBERCULOSIS, EPS_EPS034, RENAL_INSUFICIENCIARENALOTRA, DPTO_99, TRANSPLANTE, DPTO_88, DPTO_86, Grupo_Edad_6, Grupo_Edad_1, Zona_C, Grupo_Edad_8, SIDA_VIH, DPTO_41, Grupo_Edad_11, DPTO_18, Grupo_Edad_9, Zona_Z, DPTO_91, DPTO_97, AUTOINMUNE, DPTO_5 in input data",
     "output_type": "error",
     "traceback": [
      "\u001b[0;31m---------------------------------------------------------------------------\u001b[0m",
      "\u001b[0;31mValueError\u001b[0m                                Traceback (most recent call last)",
      "Cell \u001b[0;32mIn[8], line 45\u001b[0m\n\u001b[1;32m     43\u001b[0m \u001b[38;5;28;01mwith\u001b[39;00m \u001b[38;5;28mopen\u001b[39m(\u001b[38;5;124m'\u001b[39m\u001b[38;5;124mmodel_sinpriv.pkl\u001b[39m\u001b[38;5;124m'\u001b[39m, \u001b[38;5;124m'\u001b[39m\u001b[38;5;124mrb\u001b[39m\u001b[38;5;124m'\u001b[39m) \u001b[38;5;28;01mas\u001b[39;00m file:\n\u001b[1;32m     44\u001b[0m     loaded_model \u001b[38;5;241m=\u001b[39m pickle\u001b[38;5;241m.\u001b[39mload(file)\n\u001b[0;32m---> 45\u001b[0m predictions \u001b[38;5;241m=\u001b[39m loaded_model\u001b[38;5;241m.\u001b[39mpredict(df)\n\u001b[1;32m     47\u001b[0m \u001b[38;5;66;03m# Visualizar las predicciones\u001b[39;00m\n\u001b[1;32m     48\u001b[0m \u001b[38;5;28mprint\u001b[39m(predictions)\n",
      "File \u001b[0;32m/opt/anaconda3/lib/python3.11/site-packages/xgboost/sklearn.py:1168\u001b[0m, in \u001b[0;36mXGBModel.predict\u001b[0;34m(self, X, output_margin, validate_features, base_margin, iteration_range)\u001b[0m\n\u001b[1;32m   1166\u001b[0m \u001b[38;5;28;01mif\u001b[39;00m \u001b[38;5;28mself\u001b[39m\u001b[38;5;241m.\u001b[39m_can_use_inplace_predict():\n\u001b[1;32m   1167\u001b[0m     \u001b[38;5;28;01mtry\u001b[39;00m:\n\u001b[0;32m-> 1168\u001b[0m         predts \u001b[38;5;241m=\u001b[39m \u001b[38;5;28mself\u001b[39m\u001b[38;5;241m.\u001b[39mget_booster()\u001b[38;5;241m.\u001b[39minplace_predict(\n\u001b[1;32m   1169\u001b[0m             data\u001b[38;5;241m=\u001b[39mX,\n\u001b[1;32m   1170\u001b[0m             iteration_range\u001b[38;5;241m=\u001b[39miteration_range,\n\u001b[1;32m   1171\u001b[0m             predict_type\u001b[38;5;241m=\u001b[39m\u001b[38;5;124m\"\u001b[39m\u001b[38;5;124mmargin\u001b[39m\u001b[38;5;124m\"\u001b[39m \u001b[38;5;28;01mif\u001b[39;00m output_margin \u001b[38;5;28;01melse\u001b[39;00m \u001b[38;5;124m\"\u001b[39m\u001b[38;5;124mvalue\u001b[39m\u001b[38;5;124m\"\u001b[39m,\n\u001b[1;32m   1172\u001b[0m             missing\u001b[38;5;241m=\u001b[39m\u001b[38;5;28mself\u001b[39m\u001b[38;5;241m.\u001b[39mmissing,\n\u001b[1;32m   1173\u001b[0m             base_margin\u001b[38;5;241m=\u001b[39mbase_margin,\n\u001b[1;32m   1174\u001b[0m             validate_features\u001b[38;5;241m=\u001b[39mvalidate_features,\n\u001b[1;32m   1175\u001b[0m         )\n\u001b[1;32m   1176\u001b[0m         \u001b[38;5;28;01mif\u001b[39;00m _is_cupy_array(predts):\n\u001b[1;32m   1177\u001b[0m             \u001b[38;5;28;01mimport\u001b[39;00m \u001b[38;5;21;01mcupy\u001b[39;00m  \u001b[38;5;66;03m# pylint: disable=import-error\u001b[39;00m\n",
      "File \u001b[0;32m/opt/anaconda3/lib/python3.11/site-packages/xgboost/core.py:2418\u001b[0m, in \u001b[0;36mBooster.inplace_predict\u001b[0;34m(self, data, iteration_range, predict_type, missing, validate_features, base_margin, strict_shape)\u001b[0m\n\u001b[1;32m   2416\u001b[0m     data, fns, _ \u001b[38;5;241m=\u001b[39m _transform_pandas_df(data, enable_categorical)\n\u001b[1;32m   2417\u001b[0m     \u001b[38;5;28;01mif\u001b[39;00m validate_features:\n\u001b[0;32m-> 2418\u001b[0m         \u001b[38;5;28mself\u001b[39m\u001b[38;5;241m.\u001b[39m_validate_features(fns)\n\u001b[1;32m   2419\u001b[0m \u001b[38;5;28;01mif\u001b[39;00m _is_list(data) \u001b[38;5;129;01mor\u001b[39;00m _is_tuple(data):\n\u001b[1;32m   2420\u001b[0m     data \u001b[38;5;241m=\u001b[39m np\u001b[38;5;241m.\u001b[39marray(data)\n",
      "File \u001b[0;32m/opt/anaconda3/lib/python3.11/site-packages/xgboost/core.py:2970\u001b[0m, in \u001b[0;36mBooster._validate_features\u001b[0;34m(self, feature_names)\u001b[0m\n\u001b[1;32m   2964\u001b[0m \u001b[38;5;28;01mif\u001b[39;00m my_missing:\n\u001b[1;32m   2965\u001b[0m     msg \u001b[38;5;241m+\u001b[39m\u001b[38;5;241m=\u001b[39m (\n\u001b[1;32m   2966\u001b[0m         \u001b[38;5;124m\"\u001b[39m\u001b[38;5;130;01m\\n\u001b[39;00m\u001b[38;5;124mtraining data did not have the following fields: \u001b[39m\u001b[38;5;124m\"\u001b[39m\n\u001b[1;32m   2967\u001b[0m         \u001b[38;5;241m+\u001b[39m \u001b[38;5;124m\"\u001b[39m\u001b[38;5;124m, \u001b[39m\u001b[38;5;124m\"\u001b[39m\u001b[38;5;241m.\u001b[39mjoin(\u001b[38;5;28mstr\u001b[39m(s) \u001b[38;5;28;01mfor\u001b[39;00m s \u001b[38;5;129;01min\u001b[39;00m my_missing)\n\u001b[1;32m   2968\u001b[0m     )\n\u001b[0;32m-> 2970\u001b[0m \u001b[38;5;28;01mraise\u001b[39;00m \u001b[38;5;167;01mValueError\u001b[39;00m(msg\u001b[38;5;241m.\u001b[39mformat(\u001b[38;5;28mself\u001b[39m\u001b[38;5;241m.\u001b[39mfeature_names, feature_names))\n",
      "\u001b[0;31mValueError\u001b[0m: feature_names mismatch: ['DIAS_COMP', 'DIAS_ESTAN_Neto', 'Edad', 'SIDA_VIH', 'TUBERCULOSIS', 'CANCER_OTROSCANCER', 'CANCER_ORGANOSDIGESTIVOS', 'CANCER_ORGANOSRESPIRATORIOS', 'CANCER_MELANOMAYDELAPIEL', 'CANCER_MAMA', 'CANCER_OTROSGENITALESFEMENINOS', 'CANCER_CERVIXINVASIVO', 'CANCER_GENITALESMASCULINOS', 'CANCER_TEJIDOLINFATICOYAFINES', 'CANCER_CERVIXINSITU', 'AUTOINMUNE', 'DIABETES', 'SINDROMESCONVULSIVOS(EPILEPSIA)', 'ENFERMEDADCARDIOVASCULAR_OTRA', 'ENFERMEDADCARDIOVASCULAR_HIPERTENSION', 'ENFERMEDADPULMONARDELARGADURACION', 'ASMA', 'ARTRITISPIOGENASYREACTIVAS', 'ARTRITIS', 'ARTROSIS', 'RENAL_OTRA', 'RENAL_RENALDELARGADURACION', 'TRANSPLANTE', 'RENAL_INSUFICIENCIARENALOTRA', 'RENAL_INSUFICIENCIARENALCRONICA', 'ANOMALIASGENETICASYCONGENITAS', 'CANCER_TERAPIACANCER', 'EPS_EAS016', 'EPS_EAS027', 'EPS_EPS001', 'EPS_EPS002', 'EPS_EPS003', 'EPS_EPS005', 'EPS_EPS008', 'EPS_EPS009', 'EPS_EPS010', 'EPS_EPS012', 'EPS_EPS013', 'EPS_EPS014', 'EPS_EPS015', 'EPS_EPS016', 'EPS_EPS017', 'EPS_EPS018', 'EPS_EPS023', 'EPS_EPS026', 'EPS_EPS033', 'EPS_EPS034', 'EPS_EPS035', 'EPS_EPS037', 'EPS_EPS038', 'EPS_EPS039', 'SEXO_F', 'SEXO_M', 'DPTO_11', 'DPTO_13', 'DPTO_15', 'DPTO_17', 'DPTO_18', 'DPTO_19', 'DPTO_20', 'DPTO_23', 'DPTO_25', 'DPTO_27', 'DPTO_41', 'DPTO_44', 'DPTO_47', 'DPTO_5', 'DPTO_50', 'DPTO_52', 'DPTO_54', 'DPTO_63', 'DPTO_66', 'DPTO_68', 'DPTO_70', 'DPTO_73', 'DPTO_76', 'DPTO_8', 'DPTO_81', 'DPTO_85', 'DPTO_86', 'DPTO_88', 'DPTO_91', 'DPTO_94', 'DPTO_95', 'DPTO_97', 'DPTO_99', 'V8_A', 'V8_B', 'V8_C', 'Grupo_Edad_1', 'Grupo_Edad_10', 'Grupo_Edad_11', 'Grupo_Edad_12', 'Grupo_Edad_2', 'Grupo_Edad_3', 'Grupo_Edad_4', 'Grupo_Edad_5', 'Grupo_Edad_6', 'Grupo_Edad_7', 'Grupo_Edad_8', 'Grupo_Edad_9', 'Zona_C', 'Zona_N', 'Zona_Z'] ['DIAS_COMP', 'DIAS_ESTAN_Neto', 'Edad', 'ANOMALIASGENETICASYCONGENITAS', 'ARTROSIS', 'ASMA', 'CANCER_CERVIXINSITU', 'CANCER_GENITALESMASCULINOS', 'CANCER_MAMA', 'CANCER_MELANOMAYDELAPIEL', 'DIABETES', 'ENFERMEDADCARDIOVASCULAR_HIPERTENSION', 'ENFERMEDADCARDIOVASCULAR_OTRA', 'EPS_EPS002', 'EPS_EPS009', 'EPS_EPS013', 'EPS_EPS014', 'EPS_EPS016', 'EPS_EPS017', 'EPS_EPS018', 'EPS_EPS033', 'EPS_EPS037', 'SEXO_F', 'SEXO_M', 'DPTO_11', 'DPTO_13', 'DPTO_15', 'DPTO_25', 'DPTO_44', 'DPTO_50', 'DPTO_54', 'DPTO_76', 'DPTO_8', 'V8_A', 'V8_B', 'V8_C', 'Grupo_Edad_3', 'Grupo_Edad_5', 'Zona_N']\nexpected EPS_EPS039, Grupo_Edad_12, DPTO_47, Grupo_Edad_10, CANCER_CERVIXINVASIVO, Grupo_Edad_2, Grupo_Edad_7, EPS_EAS016, DPTO_52, DPTO_63, EPS_EAS027, CANCER_ORGANOSRESPIRATORIOS, ARTRITISPIOGENASYREACTIVAS, DPTO_19, RENAL_OTRA, EPS_EPS001, DPTO_68, EPS_EPS012, DPTO_66, EPS_EPS038, EPS_EPS023, EPS_EPS015, ENFERMEDADPULMONARDELARGADURACION, RENAL_INSUFICIENCIARENALCRONICA, DPTO_17, DPTO_27, EPS_EPS005, EPS_EPS010, CANCER_ORGANOSDIGESTIVOS, CANCER_TEJIDOLINFATICOYAFINES, SINDROMESCONVULSIVOS(EPILEPSIA), DPTO_70, EPS_EPS035, EPS_EPS026, DPTO_20, CANCER_OTROSCANCER, DPTO_95, ARTRITIS, DPTO_85, EPS_EPS008, RENAL_RENALDELARGADURACION, DPTO_81, EPS_EPS003, CANCER_OTROSGENITALESFEMENINOS, DPTO_73, DPTO_94, DPTO_23, CANCER_TERAPIACANCER, Grupo_Edad_4, TUBERCULOSIS, EPS_EPS034, RENAL_INSUFICIENCIARENALOTRA, DPTO_99, TRANSPLANTE, DPTO_88, DPTO_86, Grupo_Edad_6, Grupo_Edad_1, Zona_C, Grupo_Edad_8, SIDA_VIH, DPTO_41, Grupo_Edad_11, DPTO_18, Grupo_Edad_9, Zona_Z, DPTO_91, DPTO_97, AUTOINMUNE, DPTO_5 in input data"
     ]
    }
   ],
   "source": [
    "import pickle\n",
    "import pandas as pd\n",
    "from sklearn.preprocessing import OneHotEncoder\n",
    "from sklearn.model_selection import train_test_split\n",
    "\n",
    "# Cargar el DataFrame desde un archivo pickle\n",
    "archivo_pickle = 'base_epsilon_1.0.pkl'\n",
    "with open(archivo_pickle, 'rb') as file:\n",
    "    df = pickle.load(file)\n",
    "\n",
    "# Crear variables dummies para la columna 'Enfermedad'\n",
    "df['Enfermedad'] = df['Enfermedad'].str.split(',')\n",
    "enfermedades_dummies = df['Enfermedad'].str.join('|').str.get_dummies()\n",
    "df = pd.concat([df.drop('Enfermedad', axis=1), enfermedades_dummies], axis=1)\n",
    "\n",
    "# Eliminar columnas donde todas las entradas son cero y otras no necesarias\n",
    "df = df.loc[:, (df != 0).any(axis=0)]\n",
    "df['DIAS_COMP'] = df['DIAS_COMP'].astype(float)\n",
    "df.drop(columns='MUNI', inplace=True)\n",
    "\n",
    "# Eliminar filas con valores nulos\n",
    "df = df.dropna()\n",
    "\n",
    "# Aplicar One-Hot Encoding a las variables categóricas\n",
    "categorical_columns = ['EPS', 'SEXO', 'DPTO', 'V8', 'Grupo_Edad', 'Zona']\n",
    "encoder = OneHotEncoder()\n",
    "encoded_categoricals = encoder.fit_transform(df[categorical_columns])\n",
    "encoded_df = pd.DataFrame(encoded_categoricals.toarray(), columns=encoder.get_feature_names_out(categorical_columns), index=df.index)\n",
    "df = pd.concat([df.drop(categorical_columns, axis=1), encoded_df], axis=1)\n",
    "\n",
    "# Configurar el DataFrame para que coincida exactamente con las columnas del modelo entrenado\n",
    "expected_columns = [\n",
    "    'DIAS_COMP', 'DIAS_ESTAN_Neto', 'Edad', 'ANOMALIASGENETICASYCONGENITAS', 'ARTROSIS', 'ASMA',\n",
    "    'CANCER_CERVIXINSITU', 'CANCER_GENITALESMASCULINOS', 'CANCER_MAMA', 'CANCER_MELANOMAYDELAPIEL', 'DIABETES',\n",
    "    'ENFERMEDADCARDIOVASCULAR_HIPERTENSION', 'ENFERMEDADCARDIOVASCULAR_OTRA', 'EPS_EPS002', 'EPS_EPS009', 'EPS_EPS013',\n",
    "    'EPS_EPS014', 'EPS_EPS016', 'EPS_EPS017', 'EPS_EPS018', 'EPS_EPS033', 'EPS_EPS037', 'SEXO_F', 'SEXO_M',\n",
    "    'DPTO_11', 'DPTO_13', 'DPTO_15', 'DPTO_25', 'DPTO_44', 'DPTO_50', 'DPTO_54', 'DPTO_76', 'DPTO_8',\n",
    "    'V8_A', 'V8_B', 'V8_C', 'Grupo_Edad_3', 'Grupo_Edad_5', 'Zona_N'\n",
    "]\n",
    "df = df[expected_columns]\n",
    "\n",
    "# Cargar el modelo y realizar predicciones\n",
    "with open('model_sinpriv.pkl', 'rb') as file:\n",
    "    loaded_model = pickle.load(file)\n",
    "predictions = loaded_model.predict(df)\n",
    "\n",
    "# Visualizar las predicciones\n",
    "print(predictions)"
   ]
  },
  {
   "cell_type": "code",
   "execution_count": null,
   "id": "d222ce7a-4b35-426c-a934-1fe1d11b6e9c",
   "metadata": {},
   "outputs": [],
   "source": []
  }
 ],
 "metadata": {
  "kernelspec": {
   "display_name": "Python 3 (ipykernel)",
   "language": "python",
   "name": "python3"
  },
  "language_info": {
   "codemirror_mode": {
    "name": "ipython",
    "version": 3
   },
   "file_extension": ".py",
   "mimetype": "text/x-python",
   "name": "python",
   "nbconvert_exporter": "python",
   "pygments_lexer": "ipython3",
   "version": "3.11.7"
  }
 },
 "nbformat": 4,
 "nbformat_minor": 5
}
