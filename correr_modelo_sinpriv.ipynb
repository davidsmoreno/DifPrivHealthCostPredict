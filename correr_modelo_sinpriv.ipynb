{
 "cells": [
  {
   "cell_type": "code",
   "execution_count": 23,
   "id": "d2505d16-b28a-4249-bd52-8ba89f70e07d",
   "metadata": {},
   "outputs": [],
   "source": [
    "import pickle\n",
    "\n",
    "archivo_pickle = 'Entrenamiento_cronicas_N.pkl'\n",
    "with open(archivo_pickle, 'rb') as file:\n",
    "    df = pickle.load(file)\n"
   ]
  },
  {
   "cell_type": "code",
   "execution_count": 24,
   "id": "a326f4f8-8746-4e4d-b26a-088e6dcd6f1d",
   "metadata": {},
   "outputs": [],
   "source": [
    "import pandas as pd\n",
    "from sklearn.preprocessing import OneHotEncoder\n",
    "\n",
    "\n",
    "# Convertir columnas y eliminar las no necesarias\n",
    "df['DIAS_COMP'] = df['DIAS_COMP'].astype(float)\n",
    "df.drop(columns=['NUM_IDE', 'FECHA_NACI', 'id', 'MUNI'], inplace=True)\n",
    "\n",
    "# Eliminar filas con valores nulos\n",
    "df = df.dropna()\n",
    "\n",
    "# Binarizar las variables binarias especificadas\n",
    "binary_columns = [\n",
    "    'SIDA_VIH', 'TUBERCULOSIS', 'CANCER_OTROSCANCER', 'CANCER_ORGANOSDIGESTIVOS',\n",
    "    'CANCER_ORGANOSRESPIRATORIOS', 'CANCER_MELANOMAYDELAPIEL', 'CANCER_MAMA',\n",
    "    'CANCER_OTROSGENITALESFEMENINOS', 'CANCER_CERVIXINVASIVO', 'CANCER_GENITALESMASCULINOS',\n",
    "    'CANCER_TEJIDOLINFATICOYAFINES', 'CANCER_CERVIXINSITU', 'AUTOINMUNE', 'DIABETES',\n",
    "    'SINDROMESCONVULSIVOS(EPILEPSIA)', 'ENFERMEDADCARDIOVASCULAR_OTRA', 'ENFERMEDADCARDIOVASCULAR_HIPERTENSION',\n",
    "    'ENFERMEDADPULMONARDELARGADURACION', 'ASMA', 'ARTRITISPIOGENASYREACTIVAS',\n",
    "    'ARTRITIS', 'ARTROSIS', 'RENAL_OTRA', 'RENAL_RENALDELARGADURACION', 'TRANSPLANTE',\n",
    "    'RENAL_INSUFICIENCIARENALOTRA', 'RENAL_INSUFICIENCIARENALCRONICA', 'ANOMALIASGENETICASYCONGENITAS',\n",
    "    'CANCER_TERAPIACANCER'\n",
    "]\n",
    "df[binary_columns] = df[binary_columns].fillna(0).astype(int)\n",
    "\n",
    "# Aplicar One-Hot Encoding a las variables categóricas\n",
    "categorical_columns = ['EPS', 'SEXO', 'DPTO', 'V8', 'Grupo_Edad', 'Zona']\n",
    "encoder = OneHotEncoder()\n",
    "encoded_categoricals = encoder.fit_transform(df[categorical_columns])\n",
    "encoded_df = pd.DataFrame(encoded_categoricals.toarray(), columns=encoder.get_feature_names_out(categorical_columns), index=df.index)\n",
    "\n",
    "# Concatenar los datos codificados con el resto del dataframe\n",
    "df = pd.concat([df.drop(categorical_columns, axis=1), encoded_df], axis=1)\n"
   ]
  },
  {
   "cell_type": "code",
   "execution_count": 25,
   "id": "0313f370-a2bb-46ef-9364-90b3aca78e22",
   "metadata": {},
   "outputs": [],
   "source": [
    "import pandas as pd\n",
    "\n",
    "# Asegurarte de que las columnas necesarias estén en el DataFrame y en el orden correcto\n",
    "expected_columns = [\n",
    "    'DIAS_COMP', 'DIAS_ESTAN_Neto', 'Edad', 'SIDA_VIH', 'TUBERCULOSIS', 'CANCER_OTROSCANCER',\n",
    "    'CANCER_ORGANOSDIGESTIVOS', 'CANCER_ORGANOSRESPIRATORIOS', 'CANCER_MELANOMAYDELAPIEL', 'CANCER_MAMA',\n",
    "    'CANCER_OTROSGENITALESFEMENINOS', 'CANCER_CERVIXINVASIVO', 'CANCER_GENITALESMASCULINOS', 'CANCER_TEJIDOLINFATICOYAFINES',\n",
    "    'CANCER_CERVIXINSITU', 'AUTOINMUNE', 'DIABETES', 'SINDROMESCONVULSIVOS(EPILEPSIA)', 'ENFERMEDADCARDIOVASCULAR_OTRA',\n",
    "    'ENFERMEDADCARDIOVASCULAR_HIPERTENSION', 'ENFERMEDADPULMONARDELARGADURACION', 'ASMA', 'ARTRITISPIOGENASYREACTIVAS', 'ARTRITIS',\n",
    "    'ARTROSIS', 'RENAL_OTRA', 'RENAL_RENALDELARGADURACION', 'TRANSPLANTE', 'RENAL_INSUFICIENCIARENALOTRA',\n",
    "    'RENAL_INSUFICIENCIARENALCRONICA', 'ANOMALIASGENETICASYCONGENITAS', 'CANCER_TERAPIACANCER', 'EPS_EAS016', 'EPS_EAS027',\n",
    "    'EPS_EPS001', 'EPS_EPS002', 'EPS_EPS003', 'EPS_EPS005', 'EPS_EPS008', 'EPS_EPS009', 'EPS_EPS010', 'EPS_EPS012',\n",
    "    'EPS_EPS013', 'EPS_EPS014', 'EPS_EPS015', 'EPS_EPS016', 'EPS_EPS017', 'EPS_EPS018', 'EPS_EPS023', 'EPS_EPS026',\n",
    "    'EPS_EPS033', 'EPS_EPS034', 'EPS_EPS035', 'EPS_EPS037', 'EPS_EPS038', 'EPS_EPS039', 'SEXO_F', 'SEXO_M', 'DPTO_11',\n",
    "    'DPTO_13', 'DPTO_15', 'DPTO_17', 'DPTO_18', 'DPTO_19', 'DPTO_20', 'DPTO_23', 'DPTO_25', 'DPTO_27', 'DPTO_41',\n",
    "    'DPTO_44', 'DPTO_47', 'DPTO_5', 'DPTO_50', 'DPTO_52', 'DPTO_54', 'DPTO_63', 'DPTO_66', 'DPTO_68', 'DPTO_70',\n",
    "    'DPTO_73', 'DPTO_76', 'DPTO_8', 'DPTO_81', 'DPTO_85', 'DPTO_86', 'DPTO_88', 'DPTO_91', 'DPTO_94', 'DPTO_95',\n",
    "    'DPTO_97', 'DPTO_99', 'V8_A', 'V8_B', 'V8_C', 'Grupo_Edad_1', 'Grupo_Edad_10', 'Grupo_Edad_11', 'Grupo_Edad_12',\n",
    "    'Grupo_Edad_2', 'Grupo_Edad_3', 'Grupo_Edad_4', 'Grupo_Edad_5', 'Grupo_Edad_6', 'Grupo_Edad_7', 'Grupo_Edad_8',\n",
    "    'Grupo_Edad_9', 'Zona_C', 'Zona_N', 'Zona_Z'\n",
    "]\n",
    "\n",
    "\n",
    "df = df[expected_columns]\n",
    "\n"
   ]
  },
  {
   "cell_type": "code",
   "execution_count": 29,
   "id": "04083698-9399-4c0f-9047-faeb8a0d435a",
   "metadata": {},
   "outputs": [],
   "source": [
    "with open('model_sinpriv.pkl', 'rb') as file:\n",
    "    loaded_model = pickle.load(file)\n",
    "\n",
    "predictions = loaded_model.predict(df)\n"
   ]
  },
  {
   "cell_type": "code",
   "execution_count": 30,
   "id": "413c4dfb-8fd4-4971-911f-ddc6b96cbd8d",
   "metadata": {},
   "outputs": [
    {
     "data": {
      "text/plain": [
       "array([-76392.55  , 763655.7   , -33250.492 , ...,   3222.9165,\n",
       "        -5801.406 , -62627.    ], dtype=float32)"
      ]
     },
     "execution_count": 30,
     "metadata": {},
     "output_type": "execute_result"
    }
   ],
   "source": [
    "predictions"
   ]
  },
  {
   "cell_type": "code",
   "execution_count": null,
   "id": "bb4838ba-ef6f-4f36-bea3-10d6ec2d603d",
   "metadata": {},
   "outputs": [],
   "source": []
  }
 ],
 "metadata": {
  "kernelspec": {
   "display_name": "Python 3 (ipykernel)",
   "language": "python",
   "name": "python3"
  },
  "language_info": {
   "codemirror_mode": {
    "name": "ipython",
    "version": 3
   },
   "file_extension": ".py",
   "mimetype": "text/x-python",
   "name": "python",
   "nbconvert_exporter": "python",
   "pygments_lexer": "ipython3",
   "version": "3.11.7"
  }
 },
 "nbformat": 4,
 "nbformat_minor": 5
}
