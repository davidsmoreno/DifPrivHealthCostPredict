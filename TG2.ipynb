{
 "cells": [
  {
   "cell_type": "code",
   "execution_count": 1,
   "id": "bf80ffc2-17ed-42a5-8f68-92eb53ca5dc3",
   "metadata": {},
   "outputs": [],
   "source": [
    "import pickle\n",
    "import pandas as pd"
   ]
  },
  {
   "cell_type": "code",
   "execution_count": 42,
   "id": "99be96e1-4e69-4ab2-9eee-5b2d762235a7",
   "metadata": {},
   "outputs": [],
   "source": [
    "import pickle\n",
    "\n",
    "\n",
    "archivo_pickle = 'Entrenamiento_cronicas_N.pkl'\n",
    "\n",
    "\n",
    "with open(archivo_pickle, 'rb') as file:\n",
    "    df = pickle.load(file)\n"
   ]
  },
  {
   "cell_type": "code",
   "execution_count": 43,
   "id": "555d6846-878a-4ec0-8abf-ed5172c69e36",
   "metadata": {},
   "outputs": [
    {
     "data": {
      "text/plain": [
       "(996234, 45)"
      ]
     },
     "execution_count": 43,
     "metadata": {},
     "output_type": "execute_result"
    }
   ],
   "source": [
    "pd.set_option('display.max_columns', None)\n",
    "df.shape"
   ]
  },
  {
   "cell_type": "code",
   "execution_count": 44,
   "id": "fcd40904-46f4-483d-8b79-cc7b7e1fb5f5",
   "metadata": {},
   "outputs": [],
   "source": [
    "# Eliminar columnas donde todas las entradas son cero\n",
    "data_non_zero = df.loc[:, (df != 0).any(axis=0)]\n",
    "\n",
    "# Mostrar las columnas eliminadas y el nuevo dataframe\n",
    "columns_removed = df.columns.difference(data_non_zero.columns)\n"
   ]
  },
  {
   "cell_type": "code",
   "execution_count": 45,
   "id": "4bc56f9a-c969-4964-b2e1-2d23479c0973",
   "metadata": {},
   "outputs": [
    {
     "name": "stderr",
     "output_type": "stream",
     "text": [
      "/var/folders/tv/6r5469xx31vbksvh_943nnr1bcv0mh/T/ipykernel_58807/1138452748.py:22: SettingWithCopyWarning: \n",
      "A value is trying to be set on a copy of a slice from a DataFrame.\n",
      "Try using .loc[row_indexer,col_indexer] = value instead\n",
      "\n",
      "See the caveats in the documentation: https://pandas.pydata.org/pandas-docs/stable/user_guide/indexing.html#returning-a-view-versus-a-copy\n",
      "  data_non_zero['Enfermedad'] = (data_non_zero[columns_present] > 0).apply(lambda x: ', '.join(x.index[x]), axis=1)\n"
     ]
    },
    {
     "data": {
      "text/html": [
       "<div>\n",
       "<style scoped>\n",
       "    .dataframe tbody tr th:only-of-type {\n",
       "        vertical-align: middle;\n",
       "    }\n",
       "\n",
       "    .dataframe tbody tr th {\n",
       "        vertical-align: top;\n",
       "    }\n",
       "\n",
       "    .dataframe thead th {\n",
       "        text-align: right;\n",
       "    }\n",
       "</style>\n",
       "<table border=\"1\" class=\"dataframe\">\n",
       "  <thead>\n",
       "    <tr style=\"text-align: right;\">\n",
       "      <th></th>\n",
       "      <th>Enfermedad</th>\n",
       "    </tr>\n",
       "    <tr>\n",
       "      <th>rownames</th>\n",
       "      <th></th>\n",
       "    </tr>\n",
       "  </thead>\n",
       "  <tbody>\n",
       "    <tr>\n",
       "      <th>1184873</th>\n",
       "      <td></td>\n",
       "    </tr>\n",
       "    <tr>\n",
       "      <th>1587467</th>\n",
       "      <td>ENFERMEDADCARDIOVASCULAR_OTRA</td>\n",
       "    </tr>\n",
       "    <tr>\n",
       "      <th>753062</th>\n",
       "      <td></td>\n",
       "    </tr>\n",
       "    <tr>\n",
       "      <th>1802563</th>\n",
       "      <td></td>\n",
       "    </tr>\n",
       "    <tr>\n",
       "      <th>1190692</th>\n",
       "      <td></td>\n",
       "    </tr>\n",
       "  </tbody>\n",
       "</table>\n",
       "</div>"
      ],
      "text/plain": [
       "                             Enfermedad\n",
       "rownames                               \n",
       "1184873                                \n",
       "1587467   ENFERMEDADCARDIOVASCULAR_OTRA\n",
       "753062                                 \n",
       "1802563                                \n",
       "1190692                                "
      ]
     },
     "execution_count": 45,
     "metadata": {},
     "output_type": "execute_result"
    }
   ],
   "source": [
    "import pandas as pd\n",
    "\n",
    "# Asumiendo que 'data_non_zero' es tu DataFrame actual\n",
    "# Lista de todas las posibles columnas de enfermedades\n",
    "columns_enfermedades = [\n",
    "    'SIDA_VIH', 'TUBERCULOSIS', 'CANCER_OTROSCANCER', 'CANCER_ORGANOSDIGESTIVOS',\n",
    "    'CANCER_ORGANOSRESPIRATORIOS', 'CANCER_MELANOMAYDELAPIEL', 'CANCER_MAMA',\n",
    "    'CANCER_OTROSGENITALESFEMENINOS', 'CANCER_CERVIXINVASIVO', 'CANCER_GENITALESMASCULINOS',\n",
    "    'CANCER_TEJIDOLINFATICOYAFINES', 'CANCER_CERVIXINSITU', 'AUTOINMUNE', 'DIABETES',\n",
    "    'SINDROMESCONVULSIVOS(EPILEPSIA)', 'ENFERMEDADCARDIOVASCULAR_OTRA', 'ENFERMEDADCARDIOVASCULAR_HIPERTENSION',\n",
    "    'ENFERMEDADPULMONARDELARGADURACION', 'ASMA', 'ARTRITISPIOGENASYREACTIVAS',\n",
    "    'ARTRITIS', 'ARTROSIS', 'RENAL_OTRA', 'RENAL_RENALDELARGADURACION', 'TRANSPLANTE',\n",
    "    'RENAL_INSUFICIENCIARENALOTRA', 'RENAL_INSUFICIENCIARENALCRONICA', 'ANOMALIASGENETICASYCONGENITAS',\n",
    "    'CANCER_TERAPIACANCER'\n",
    "]\n",
    "\n",
    "\n",
    "# Verificar cuáles columnas de enfermedades están presentes en el DataFrame\n",
    "columns_present = [col for col in columns_enfermedades if col in data_non_zero.columns]\n",
    "\n",
    "# Crear la columna 'Enfermedad' que concatena los nombres de las enfermedades presentes, separadas por comas\n",
    "data_non_zero['Enfermedad'] = (data_non_zero[columns_present] > 0).apply(lambda x: ', '.join(x.index[x]), axis=1)\n",
    "\n",
    "# Mostrar las primeras filas para verificar la nueva columna 'Enfermedad'\n",
    "data_non_zero[['Enfermedad']].head()\n",
    "\n",
    "\n"
   ]
  },
  {
   "cell_type": "code",
   "execution_count": 46,
   "id": "f2694890-f206-4c2b-b9aa-c81c7279dcc0",
   "metadata": {},
   "outputs": [
    {
     "name": "stderr",
     "output_type": "stream",
     "text": [
      "/var/folders/tv/6r5469xx31vbksvh_943nnr1bcv0mh/T/ipykernel_58807/3052532982.py:1: SettingWithCopyWarning: \n",
      "A value is trying to be set on a copy of a slice from a DataFrame\n",
      "\n",
      "See the caveats in the documentation: https://pandas.pydata.org/pandas-docs/stable/user_guide/indexing.html#returning-a-view-versus-a-copy\n",
      "  data_non_zero.drop(columns=columns_enfermedades, inplace=True)\n",
      "/var/folders/tv/6r5469xx31vbksvh_943nnr1bcv0mh/T/ipykernel_58807/3052532982.py:4: SettingWithCopyWarning: \n",
      "A value is trying to be set on a copy of a slice from a DataFrame.\n",
      "Try using .loc[row_indexer,col_indexer] = value instead\n",
      "\n",
      "See the caveats in the documentation: https://pandas.pydata.org/pandas-docs/stable/user_guide/indexing.html#returning-a-view-versus-a-copy\n",
      "  data_non_zero['Enfermedad'] = data_non_zero['Enfermedad'].apply(lambda x: 'Sin Enfermedad' if not x else x)\n"
     ]
    }
   ],
   "source": [
    "data_non_zero.drop(columns=columns_enfermedades, inplace=True)\n",
    "\n",
    "# Reemplazar valores vacíos o NaN en la columna 'Enfermedad' con 'Sin Enfermedad'\n",
    "data_non_zero['Enfermedad'] = data_non_zero['Enfermedad'].apply(lambda x: 'Sin Enfermedad' if not x else x)\n"
   ]
  },
  {
   "cell_type": "code",
   "execution_count": 47,
   "id": "bdcc6c94-9b73-493e-be26-777247ec46a1",
   "metadata": {},
   "outputs": [
    {
     "data": {
      "text/html": [
       "<div>\n",
       "<style scoped>\n",
       "    .dataframe tbody tr th:only-of-type {\n",
       "        vertical-align: middle;\n",
       "    }\n",
       "\n",
       "    .dataframe tbody tr th {\n",
       "        vertical-align: top;\n",
       "    }\n",
       "\n",
       "    .dataframe thead th {\n",
       "        text-align: right;\n",
       "    }\n",
       "</style>\n",
       "<table border=\"1\" class=\"dataframe\">\n",
       "  <thead>\n",
       "    <tr style=\"text-align: right;\">\n",
       "      <th></th>\n",
       "      <th>EPS</th>\n",
       "      <th>SEXO</th>\n",
       "      <th>DPTO</th>\n",
       "      <th>MUNI</th>\n",
       "      <th>DIAS_COMP</th>\n",
       "      <th>V8</th>\n",
       "      <th>Valor_Neto</th>\n",
       "      <th>DIAS_ESTAN_Neto</th>\n",
       "      <th>Edad</th>\n",
       "      <th>Grupo_Edad</th>\n",
       "      <th>Zona</th>\n",
       "      <th>Enfermedad</th>\n",
       "    </tr>\n",
       "    <tr>\n",
       "      <th>rownames</th>\n",
       "      <th></th>\n",
       "      <th></th>\n",
       "      <th></th>\n",
       "      <th></th>\n",
       "      <th></th>\n",
       "      <th></th>\n",
       "      <th></th>\n",
       "      <th></th>\n",
       "      <th></th>\n",
       "      <th></th>\n",
       "      <th></th>\n",
       "      <th></th>\n",
       "    </tr>\n",
       "  </thead>\n",
       "  <tbody>\n",
       "    <tr>\n",
       "      <th>1184873</th>\n",
       "      <td>EPS002</td>\n",
       "      <td>F</td>\n",
       "      <td>50</td>\n",
       "      <td>1</td>\n",
       "      <td>360</td>\n",
       "      <td>B</td>\n",
       "      <td>39054.0</td>\n",
       "      <td>0.0</td>\n",
       "      <td>12.0</td>\n",
       "      <td>3</td>\n",
       "      <td>N</td>\n",
       "      <td>Sin Enfermedad</td>\n",
       "    </tr>\n",
       "    <tr>\n",
       "      <th>1587467</th>\n",
       "      <td>EPS013</td>\n",
       "      <td>M</td>\n",
       "      <td>76</td>\n",
       "      <td>1</td>\n",
       "      <td>336</td>\n",
       "      <td>C</td>\n",
       "      <td>312012.0</td>\n",
       "      <td>277.0</td>\n",
       "      <td>23.0</td>\n",
       "      <td>5</td>\n",
       "      <td>C</td>\n",
       "      <td>ENFERMEDADCARDIOVASCULAR_OTRA</td>\n",
       "    </tr>\n",
       "    <tr>\n",
       "      <th>753062</th>\n",
       "      <td>EPS017</td>\n",
       "      <td>F</td>\n",
       "      <td>11</td>\n",
       "      <td>1</td>\n",
       "      <td>333</td>\n",
       "      <td>B</td>\n",
       "      <td>14313.0</td>\n",
       "      <td>0.0</td>\n",
       "      <td>15.0</td>\n",
       "      <td>4</td>\n",
       "      <td>C</td>\n",
       "      <td>Sin Enfermedad</td>\n",
       "    </tr>\n",
       "    <tr>\n",
       "      <th>1802563</th>\n",
       "      <td>EPS002</td>\n",
       "      <td>M</td>\n",
       "      <td>76</td>\n",
       "      <td>1</td>\n",
       "      <td>84</td>\n",
       "      <td>B</td>\n",
       "      <td>0.0</td>\n",
       "      <td>0.0</td>\n",
       "      <td>13.0</td>\n",
       "      <td>3</td>\n",
       "      <td>C</td>\n",
       "      <td>Sin Enfermedad</td>\n",
       "    </tr>\n",
       "    <tr>\n",
       "      <th>1190692</th>\n",
       "      <td>EPS037</td>\n",
       "      <td>F</td>\n",
       "      <td>15</td>\n",
       "      <td>776</td>\n",
       "      <td>180</td>\n",
       "      <td>B</td>\n",
       "      <td>0.0</td>\n",
       "      <td>0.0</td>\n",
       "      <td>21.0</td>\n",
       "      <td>5</td>\n",
       "      <td>N</td>\n",
       "      <td>Sin Enfermedad</td>\n",
       "    </tr>\n",
       "  </tbody>\n",
       "</table>\n",
       "</div>"
      ],
      "text/plain": [
       "             EPS SEXO DPTO MUNI DIAS_COMP V8  Valor_Neto  DIAS_ESTAN_Neto  \\\n",
       "rownames                                                                    \n",
       "1184873   EPS002    F   50    1       360  B     39054.0              0.0   \n",
       "1587467   EPS013    M   76    1       336  C    312012.0            277.0   \n",
       "753062    EPS017    F   11    1       333  B     14313.0              0.0   \n",
       "1802563   EPS002    M   76    1        84  B         0.0              0.0   \n",
       "1190692   EPS037    F   15  776       180  B         0.0              0.0   \n",
       "\n",
       "          Edad Grupo_Edad Zona                     Enfermedad  \n",
       "rownames                                                       \n",
       "1184873   12.0          3    N                 Sin Enfermedad  \n",
       "1587467   23.0          5    C  ENFERMEDADCARDIOVASCULAR_OTRA  \n",
       "753062    15.0          4    C                 Sin Enfermedad  \n",
       "1802563   13.0          3    C                 Sin Enfermedad  \n",
       "1190692   21.0          5    N                 Sin Enfermedad  "
      ]
     },
     "execution_count": 47,
     "metadata": {},
     "output_type": "execute_result"
    }
   ],
   "source": [
    "df = data_non_zero\n",
    "df.drop(columns='NUM_IDE', inplace=True)\n",
    "df.drop(columns='FECHA_NACI', inplace=True)\n",
    "df.drop(columns='id', inplace=True)\n",
    "df.head()"
   ]
  },
  {
   "cell_type": "code",
   "execution_count": null,
   "id": "f84266f5-c490-4e72-bfb8-4b552a6d3230",
   "metadata": {},
   "outputs": [],
   "source": [
    "Categoricas: EPS SEXO DPTO MUNI V8 Grupo_Edad Zona Enfermedad\n",
    "Numericas: Valor_Neto DIAS_ESTAN_Neto\tEdad"
   ]
  },
  {
   "cell_type": "code",
   "execution_count": 55,
   "id": "ffe02e15-1c27-48a0-aff9-301e036b3422",
   "metadata": {},
   "outputs": [
    {
     "data": {
      "text/plain": [
       "Grupo_Edad\n",
       "5     447291\n",
       "3     156481\n",
       "4      67207\n",
       "6      65305\n",
       "2      54074\n",
       "7      53909\n",
       "8      41770\n",
       "9      31761\n",
       "12     27224\n",
       "10     22602\n",
       "11     17587\n",
       "1      11023\n",
       "Name: count, dtype: int64"
      ]
     },
     "execution_count": 55,
     "metadata": {},
     "output_type": "execute_result"
    }
   ],
   "source": [
    "df.Grupo_Edad.value_counts()"
   ]
  },
  {
   "cell_type": "code",
   "execution_count": 35,
   "id": "b2997273-340b-4fa0-be12-665ce9b74a71",
   "metadata": {},
   "outputs": [
    {
     "name": "stdout",
     "output_type": "stream",
     "text": [
      "          Valor_Neto  Valor_Neto_Laplace SEXO Sexo_OUE\n",
      "rownames                                              \n",
      "1184873      39054.0        39054.150381    F        M\n",
      "1587467     312012.0       312012.680544    M        F\n",
      "753062       14313.0        14312.026919    F        M\n",
      "1802563          0.0           -0.353630    M        F\n",
      "1190692          0.0            1.152578    F        F\n"
     ]
    }
   ],
   "source": [
    "import numpy as np\n",
    "\n",
    "# Laplace Mechanism\n",
    "def laplace_mechanism(value, epsilon):\n",
    "    scale = 1/epsilon\n",
    "    return value + np.random.laplace(0, scale)\n",
    "\n",
    "\n",
    "\n",
    "def oue(data, column_name, epsilon):\n",
    "    categories = data[column_name].unique()\n",
    "    def encode(category):\n",
    "        p = 1 / (np.exp(epsilon) + 1)\n",
    "        q = 1 - p\n",
    "        encoded = [1 if np.random.rand() < p else 0 if cat == category else 1 if np.random.rand() < q else 0 for cat in categories]\n",
    "        max_index = np.argmax(encoded)\n",
    "        return categories[max_index]\n",
    "    return data[column_name].apply(encode)\n",
    "\n",
    "\n",
    "\n"
   ]
  },
  {
   "cell_type": "code",
   "execution_count": null,
   "id": "d1655787-3081-4ac7-b52f-436797bf4990",
   "metadata": {},
   "outputs": [],
   "source": [
    "import pandas as pd\n",
    "import numpy as np\n",
    "import pickle\n",
    "\n",
    "# Definir las funciones de mecanismo de privacidad\n",
    "def laplace_mechanism(value, epsilon):\n",
    "    \"\"\"Añade ruido laplaciano a un valor numérico.\"\"\"\n",
    "    scale = 1 / epsilon\n",
    "    return value + np.random.laplace(0, scale)\n",
    "\n",
    "def oue(data, column_name, epsilon):\n",
    "    \"\"\"Aplica Optimized Unary Encoding a una columna categórica.\"\"\"\n",
    "    categories = data[column_name].unique()\n",
    "    def encode(category):\n",
    "        p = 1 / (np.exp(epsilon) + 1)\n",
    "        q = 1 - p\n",
    "        encoded = [1 if np.random.rand() < p else 0 if cat == category else 1 if np.random.rand() < q else 0 for cat in categories]\n",
    "        max_index = np.argmax(encoded)\n",
    "        return categories[max_index]\n",
    "    return data[column_name].apply(encode)\n",
    "\n",
    "# Listas de columnas categóricas y numéricas\n",
    "categorical_columns = ['EPS', 'SEXO', 'DPTO', 'MUNI', 'V8', 'Grupo_Edad', 'Zona', 'Enfermedad']\n",
    "numeric_columns = ['Valor_Neto', 'DIAS_ESTAN_Neto', 'Edad']\n",
    "\n",
    "# Valores de epsilon a usar\n",
    "epsilons = [0.01, 0.1, 0.5, 1.0]\n",
    "\n",
    "# Aplicar mecanismos de privacidad y guardar DataFrames\n",
    "for epsilon in epsilons:\n",
    "    df_epsilon = df.copy()\n",
    "    \n",
    "    # Aplicar Laplace a columnas numéricas\n",
    "    for col in numeric_columns:\n",
    "        df_epsilon[col] = df_epsilon[col].apply(lambda x: laplace_mechanism(x, epsilon))\n",
    "    \n",
    "    # Aplicar OUE a columnas categóricas\n",
    "    for col in categorical_columns:\n",
    "        df_epsilon[col] = oue(df_epsilon, col, epsilon)\n",
    "    \n",
    "    # Guardar el DataFrame resultante como un archivo pickle\n",
    "    pickle_filename = f'base_epsilon_{epsilon}.pkl'\n",
    "    with open(pickle_filename, 'wb') as f:\n",
    "        pickle.dump(df_epsilon, f)\n",
    "\n",
    "    print(f'DataFrame para epsilon={epsilon} guardado como {pickle_filename}.')\n"
   ]
  }
 ],
 "metadata": {
  "kernelspec": {
   "display_name": "Python 3 (ipykernel)",
   "language": "python",
   "name": "python3"
  },
  "language_info": {
   "codemirror_mode": {
    "name": "ipython",
    "version": 3
   },
   "file_extension": ".py",
   "mimetype": "text/x-python",
   "name": "python",
   "nbconvert_exporter": "python",
   "pygments_lexer": "ipython3",
   "version": "3.11.7"
  }
 },
 "nbformat": 4,
 "nbformat_minor": 5
}
